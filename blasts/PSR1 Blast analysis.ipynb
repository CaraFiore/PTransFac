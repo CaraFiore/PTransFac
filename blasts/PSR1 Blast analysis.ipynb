{
 "cells": [
  {
   "cell_type": "markdown",
   "metadata": {},
   "source": [
    "##Blast of PSR1 from Chlamydomonas against MMETSP database"
   ]
  },
  {
   "cell_type": "code",
   "execution_count": 83,
   "metadata": {
    "collapsed": false
   },
   "outputs": [],
   "source": [
    "from Bio import SeqIO\n",
    "from Bio import SearchIO\n",
    "from Bio.Blast import NCBIXML\n"
   ]
  },
  {
   "cell_type": "markdown",
   "metadata": {},
   "source": [
    "###Blast results with 1e-10 cutoff: blast protein from Chlamy against the MMETSP nucleotide db"
   ]
  },
  {
   "cell_type": "code",
   "execution_count": 84,
   "metadata": {
    "collapsed": false
   },
   "outputs": [],
   "source": [
    "qresult = next(SearchIO.parse('ChlamyPSR1.tblastn.MMETSP140604.xml', 'blast-xml'))"
   ]
  },
  {
   "cell_type": "code",
   "execution_count": 85,
   "metadata": {
    "collapsed": false
   },
   "outputs": [],
   "source": [
    "HitHash={}\n",
    "for i in qresult:\n",
    "    HITID=i.id\n",
    "    newDict={}\n",
    "    for k in i.description.strip().split(' /'):\n",
    "        l=k.split('=')\n",
    "        newDict[l[0]]=l[1]\n",
    "    HitHash[HITID]=newDict"
   ]
  },
  {
   "cell_type": "code",
   "execution_count": 86,
   "metadata": {
    "collapsed": false
   },
   "outputs": [
    {
     "data": {
      "text/plain": [
       "112"
      ]
     },
     "execution_count": 86,
     "metadata": {},
     "output_type": "execute_result"
    }
   ],
   "source": [
    "len(qresult)"
   ]
  },
  {
   "cell_type": "code",
   "execution_count": 87,
   "metadata": {
    "collapsed": false
   },
   "outputs": [
    {
     "name": "stdout",
     "output_type": "stream",
     "text": [
      "\"Chlamydomonas euryale, Strain CCMP219\"\n",
      "\"Gloeochaete witrockiana, Strain SAG 46.84\"\n",
      "\"Pyramimonas sp., Strain CCMP2087\"\n",
      "\"Pycnococcus provasolii, Strain RCC2336\"\n",
      "\"Picochlorum sp., Strain RCC944\"\n",
      "\"Micromonas sp, Strain CS-222\"\n",
      "\"Alexandrium tamarense, Strain CCMP1771\"\n",
      "\"Emiliania huxleyi, Strain PLY M219\"\n",
      "\"Micromonas sp, Strain CCMP1646\"\n",
      "\"Genus nov. species nov., Strain RCC2339\"\n",
      "\"Micromonas pusilla, Strain CCMP1723 \"\n",
      "\"Tetraselmis striata, Strain LANL1001\"\n",
      "\"Picocystis salinarum, Strain CCMP1897\"\n",
      "\"Micromonas pusilla, Strain CCAC1681\"\n",
      "\"Dunaliella tertiolecta, Strain CCMP1320\"\n",
      "\"Micromonas sp., Strain NEPCC29\"\n",
      "\"Chlamydomonas euryale, Strain CCMP219\"\n",
      "\"Micromonas sp., Strain RCC472\"\n",
      "\"Erythrolobus australicus, Strain CCMP3124\"\n",
      "\"Picocystis salinarum\"\n",
      "\"Tetraselmis striata, Strain LANL1001\"\n",
      "\"Crustomastix stigmata, Strain CCMP3273\"\n",
      "\"Prasinococcus capsulatus, Strain CCMP1194\"\n",
      "\"Genus nov. species nov., Strain RCC998\"\n",
      "\"Micromonas sp., Strain NEPCC29\"\n",
      "\"Picochlorum oklahomensis, Strain CCMP2329\"\n",
      "\"Tetraselmis striata, Strain LANL1001\"\n",
      "\"Picochlorum oklahomensis, Strain CCMP2329\"\n",
      "\"Gloeochaete witrockiana, Strain SAG 46.84\"\n",
      "\"Tetraselmis chuii, Strain PLY429\"\n",
      "\"Tetraselmis striata, Strain LANL1001\"\n",
      "\"Cyanoptyche  gloeocystis , Strain SAG4.97\"\n",
      "\"Genus nov. species nov., Strain RCC2339\"\n",
      "\"Picochlorum sp., Strain RCC944\"\n",
      "\"Pyramimonas sp., Strain CCMP2087\"\n",
      "\"Micromonas sp., Strain RCC472\"\n",
      "\"Genus nov. species nov., Strain RCC2335\"\n",
      "\"Micromonas sp., Strain CCMP2099\"\n",
      "\"Pterosperma sp., Strain CCMP1384\"\n",
      "\"Chlamydomonas chlamydogama, Strain SAG 11-48b\"\n",
      "\"Dunaliella tertiolecta, Strain CCMP1320\"\n",
      "\"Picocystis salinarum, Strain CCMP1897\"\n",
      "\"Micromonas sp., Strain CCMP2099\"\n",
      "\"Dolichomastix tenuilepis, Strain CCMP3274\"\n",
      "\"Tetraselmis chuii, Strain PLY429\"\n",
      "\"Genus nov. species nov., Strain RCC2288\"\n",
      "\"Prasinococcus capsulatus, Strain CCMP1194\"\n",
      "\"Pyramimonas parkeae, Strain CCMP726\"\n",
      "\"Mantoniella sp, Strain CCMP1436\"\n",
      "\"Erythrolobus madagascarensis, Strain CCMP3276\"\n",
      "\"Chlamydomonas euryale, Strain CCMP219\"\n",
      "\"Genus nov. species nov., Strain RCC856\"\n",
      "\"Pyramimonas obovata, Strain CCMP722\"\n",
      "\"Prasinococcus capsulatus, Strain CCMP1194\"\n",
      "\"Dolichomastix tenuilepis, Strain CCMP3274\"\n",
      "\"Bathycoccus prasinos, Strain RCC716\"\n",
      "\"Genus nov. species nov., Strain RCC998\"\n",
      "\"Nephroselmis pyriformis, Strain CCMP717\"\n",
      "\"Tetraselmis astigmatica, Strain CCMP880\"\n",
      "\"Tetraselmis sp., Strain GSL018\"\n",
      "\"Tetraselmis chuii, Strain PLY429\"\n",
      "\"Micromonas pusilla, Strain RCC2306\"\n",
      "\"Gloeochaete witrockiana, Strain SAG 46.84\"\n",
      "\"Tetraselmis chuii, Strain PLY429\"\n",
      "\"Genus nov. species nov., Strain RCC2335\"\n",
      "\"Prasinoderma coloniale, Strain CCMP1413\"\n",
      "\"Pyramimonas parkeae, CCMP726\"\n",
      "\"Micromonas sp., Strain RCC451\"\n",
      "\"Pyramimonas amylifera, Strain CCMP720\"\n",
      "\"Bathycoccus prasinos, Strain CCMP1898\"\n",
      "\"Prasinococcus capsulatus, Strain CCMP1194\"\n",
      "\"Mantoniella antarctica, Strain SL-175\"\n",
      "\"Chlamydomonas euryale, Strain CCMP219\"\n",
      "\"Mantoniella antarctica, Strain SL-175\"\n",
      "\"Pyramimonas obovata, Strain CCMP722\"\n",
      "\"Dunaliella tertiolecta, Strain CCMP1320\"\n",
      "\"Genus nov. species nov., Strain RCC2339\"\n",
      "\"Micromonas pusilla, Strain RCC1614\"\n",
      "\"Mantoniella antarctica, Strain SL-175\"\n",
      "\"Chlamydomonas chlamydogama, Strain SAG 11-48b\"\n",
      "\"Chlamydomonas leiostraca, Strain SAG 11-49\"\n"
     ]
    }
   ],
   "source": [
    "List all species that have a hit. \n",
    "for i in HitHash:\n",
    "    if 'ORGANISM' in HitHash[i].keys():\n",
    "        print HitHash[i]['ORGANISM']"
   ]
  },
  {
   "cell_type": "code",
   "execution_count": null,
   "metadata": {
    "collapsed": true
   },
   "outputs": [],
   "source": []
  }
 ],
 "metadata": {
  "kernelspec": {
   "display_name": "Python 2",
   "language": "python",
   "name": "python2"
  },
  "language_info": {
   "codemirror_mode": {
    "name": "ipython",
    "version": 2
   },
   "file_extension": ".py",
   "mimetype": "text/x-python",
   "name": "python",
   "nbconvert_exporter": "python",
   "pygments_lexer": "ipython2",
   "version": "2.7.9"
  }
 },
 "nbformat": 4,
 "nbformat_minor": 0
}
