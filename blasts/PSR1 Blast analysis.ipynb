{
 "cells": [
  {
   "cell_type": "markdown",
   "metadata": {},
   "source": [
    "##Blast of PSR1 from Chlamydomonas against MMETSP database"
   ]
  },
  {
   "cell_type": "code",
   "execution_count": 22,
   "metadata": {
    "collapsed": false
   },
   "outputs": [
    {
     "name": "stderr",
     "output_type": "stream",
     "text": [
      "/Users/harrietalexander/anaconda/lib/python2.7/site-packages/Bio/SearchIO/__init__.py:211: BiopythonExperimentalWarning: Bio.SearchIO is an experimental submodule which may undergo significant changes prior to its future official release.\n",
      "  BiopythonExperimentalWarning)\n"
     ]
    }
   ],
   "source": [
    "from Bio import SeqIO\n",
    "from Bio import SearchIO\n",
    "from Bio.Blast import NCBIXML\n"
   ]
  },
  {
   "cell_type": "code",
   "execution_count": 24,
   "metadata": {
    "collapsed": false
   },
   "outputs": [],
   "source": [
    "q_results=SearchIO.parse('ChlamyPSR1.tblastn.MMETSP140604.xml', 'blast-xml') #look at the blast results with 1e-10 cutoff: blast protein from Chlamy against the nucleotide db\n",
    "next(q_results)"
   ]
  },
  {
   "cell_type": "code",
   "execution_count": 30,
   "metadata": {
    "collapsed": false
   },
   "outputs": [],
   "source": [
    "for q in q_results:\n",
    "    print q[1]"
   ]
  },
  {
   "cell_type": "code",
   "execution_count": 33,
   "metadata": {
    "collapsed": false
   },
   "outputs": [],
   "source": [
    "qresult = next(SearchIO.parse('ChlamyPSR1.tblastn.MMETSP140604.xml', 'blast-xml'))"
   ]
  },
  {
   "cell_type": "code",
   "execution_count": 73,
   "metadata": {
    "collapsed": false
   },
   "outputs": [],
   "source": [
    "HitHash={}\n",
    "for i in qresult:\n",
    "    HITID=i.id\n",
    "    newDict={}\n",
    "    for k in i.description.strip().split(' /'):\n",
    "        l=k.split('=')\n",
    "        newDict[l[0]]=l[1]\n",
    "    HitHash[HITID]=newDict"
   ]
  },
  {
   "cell_type": "code",
   "execution_count": 74,
   "metadata": {
    "collapsed": false
   },
   "outputs": [
    {
     "data": {
      "text/plain": [
       "112"
      ]
     },
     "execution_count": 74,
     "metadata": {},
     "output_type": "execute_result"
    }
   ],
   "source": [
    "len(qresult)"
   ]
  },
  {
   "cell_type": "code",
   "execution_count": 76,
   "metadata": {
    "collapsed": false
   },
   "outputs": [
    {
     "name": "stdout",
     "output_type": "stream",
     "text": [
      "\"Chlamydomonas euryale, Strain CCMP219\"\n",
      "\"Gloeochaete witrockiana, Strain SAG 46.84\"\n",
      "\"Pyramimonas sp., Strain CCMP2087\"\n",
      "\"Pycnococcus provasolii, Strain RCC2336\"\n",
      "\"Picochlorum sp., Strain RCC944\"\n",
      "\"Micromonas sp, Strain CS-222\"\n",
      "\"Alexandrium tamarense, Strain CCMP1771\"\n",
      "\"Emiliania huxleyi, Strain PLY M219\"\n",
      "\"Micromonas sp, Strain CCMP1646\"\n",
      "\"Genus nov. species nov., Strain RCC2339\"\n",
      "\"Micromonas pusilla, Strain CCMP1723 \"\n",
      "\"Tetraselmis striata, Strain LANL1001\"\n",
      "\"Picocystis salinarum, Strain CCMP1897\"\n",
      "\"Micromonas pusilla, Strain CCAC1681\"\n",
      "\"Dunaliella tertiolecta, Strain CCMP1320\"\n",
      "\"Micromonas sp., Strain NEPCC29\"\n",
      "\"Chlamydomonas euryale, Strain CCMP219\"\n",
      "\"Micromonas sp., Strain RCC472\"\n",
      "\"Erythrolobus australicus, Strain CCMP3124\"\n",
      "\"Picocystis salinarum\"\n",
      "\"Tetraselmis striata, Strain LANL1001\"\n",
      "\"Crustomastix stigmata, Strain CCMP3273\"\n",
      "\"Prasinococcus capsulatus, Strain CCMP1194\"\n",
      "\"Genus nov. species nov., Strain RCC998\"\n",
      "\"Micromonas sp., Strain NEPCC29\"\n",
      "\"Picochlorum oklahomensis, Strain CCMP2329\"\n",
      "\"Tetraselmis striata, Strain LANL1001\"\n",
      "\"Picochlorum oklahomensis, Strain CCMP2329\"\n",
      "\"Gloeochaete witrockiana, Strain SAG 46.84\"\n",
      "\"Tetraselmis chuii, Strain PLY429\"\n",
      "\"Tetraselmis striata, Strain LANL1001\"\n",
      "\"Cyanoptyche  gloeocystis , Strain SAG4.97\"\n",
      "\"Genus nov. species nov., Strain RCC2339\"\n",
      "\"Picochlorum sp., Strain RCC944\"\n",
      "\"Pyramimonas sp., Strain CCMP2087\"\n",
      "\"Micromonas sp., Strain RCC472\"\n",
      "\"Genus nov. species nov., Strain RCC2335\"\n",
      "\"Micromonas sp., Strain CCMP2099\"\n",
      "\"Pterosperma sp., Strain CCMP1384\"\n",
      "\"Chlamydomonas chlamydogama, Strain SAG 11-48b\"\n",
      "\"Dunaliella tertiolecta, Strain CCMP1320\"\n",
      "\"Picocystis salinarum, Strain CCMP1897\"\n",
      "\"Micromonas sp., Strain CCMP2099\"\n",
      "\"Dolichomastix tenuilepis, Strain CCMP3274\"\n",
      "\"Tetraselmis chuii, Strain PLY429\"\n",
      "\"Genus nov. species nov., Strain RCC2288\"\n",
      "\"Prasinococcus capsulatus, Strain CCMP1194\"\n",
      "\"Pyramimonas parkeae, Strain CCMP726\"\n",
      "\"Mantoniella sp, Strain CCMP1436\"\n",
      "\"Erythrolobus madagascarensis, Strain CCMP3276\"\n",
      "\"Chlamydomonas euryale, Strain CCMP219\"\n",
      "\"Genus nov. species nov., Strain RCC856\"\n",
      "\"Pyramimonas obovata, Strain CCMP722\"\n",
      "\"Prasinococcus capsulatus, Strain CCMP1194\"\n",
      "\"Dolichomastix tenuilepis, Strain CCMP3274\"\n",
      "\"Bathycoccus prasinos, Strain RCC716\"\n",
      "\"Genus nov. species nov., Strain RCC998\"\n",
      "\"Nephroselmis pyriformis, Strain CCMP717\"\n",
      "\"Tetraselmis astigmatica, Strain CCMP880\"\n",
      "\"Tetraselmis sp., Strain GSL018\"\n",
      "\"Tetraselmis chuii, Strain PLY429\"\n",
      "\"Micromonas pusilla, Strain RCC2306\"\n",
      "\"Gloeochaete witrockiana, Strain SAG 46.84\"\n",
      "\"Tetraselmis chuii, Strain PLY429\"\n",
      "\"Genus nov. species nov., Strain RCC2335\"\n",
      "\"Prasinoderma coloniale, Strain CCMP1413\"\n",
      "\"Pyramimonas parkeae, CCMP726\"\n",
      "\"Micromonas sp., Strain RCC451\"\n",
      "\"Pyramimonas amylifera, Strain CCMP720\"\n",
      "\"Bathycoccus prasinos, Strain CCMP1898\"\n",
      "\"Prasinococcus capsulatus, Strain CCMP1194\"\n",
      "\"Mantoniella antarctica, Strain SL-175\"\n",
      "\"Chlamydomonas euryale, Strain CCMP219\"\n",
      "\"Mantoniella antarctica, Strain SL-175\"\n",
      "\"Pyramimonas obovata, Strain CCMP722\"\n",
      "\"Dunaliella tertiolecta, Strain CCMP1320\"\n",
      "\"Genus nov. species nov., Strain RCC2339\"\n",
      "\"Micromonas pusilla, Strain RCC1614\"\n",
      "\"Mantoniella antarctica, Strain SL-175\"\n",
      "\"Chlamydomonas chlamydogama, Strain SAG 11-48b\"\n",
      "\"Chlamydomonas leiostraca, Strain SAG 11-49\"\n"
     ]
    }
   ],
   "source": [
    "for i in HitHash:\n",
    "    if 'ORGANISM' in HitHash[i].keys():\n",
    "        print HitHash[i]['ORGANISM']"
   ]
  },
  {
   "cell_type": "code",
   "execution_count": 81,
   "metadata": {
    "collapsed": false
   },
   "outputs": [
    {
     "name": "stdout",
     "output_type": "stream",
     "text": [
      "/NCGR_SEQ_ID=MMETSP1391-20130828|1336 /ASSEMBLY_ACC=CAM_ASM_000867 /TAXON_ID=1034604 /ORGANISM=\"Chlamydomonas leiostraca, Strain SAG 11-49\" /LENGTH=1813\n",
      "/NCGR_SEQ_ID=MMETSP1392-20130828|6031 /ASSEMBLY_ACC=CAM_ASM_000868 /TAXON_ID=225041 /ORGANISM=\"Chlamydomonas chlamydogama, Strain SAG 11-48b\" /LENGTH=2826\n",
      "/NCGR_SEQ_ID=MMETSP1126-20121109|1650 /ASSEMBLY_ACC=CAM_ASM_000457 /TAXON_ID=3047 /ORGANISM=\"Dunaliella tertiolecta, Strain CCMP1320\" /LENGTH=2512\n",
      "/NCGR_SEQ_ID=MMETSP1128-20130828|4363 /ASSEMBLY_ACC=CAM_ASM_000463 /TAXON_ID=3047 /ORGANISM=\"Dunaliella tertiolecta, Strain CCMP1320\" /LENGTH=2516\n",
      "/NCGR_SEQ_ID=MMETSP1127-20130417|94095 /ASSEMBLY_ACC=CAM_ASM_000462 /TAXON_ID=3047 /ORGANISM=\"Dunaliella tertiolecta, Strain CCMP1320\" /LENGTH=2006\n",
      "/NCGR_SEQ_ID=MMETSP0052_2-20121109|14349 /TAXON_ID=51329 ORGANISM=\"Polytomella parva, Strain SAG 63-3\" /NCGR_SAMPLE_ID=MMETSP0052_2 /ASSEMBLY_ACC=CAM_ASM_000194 /LENGTH=1328\n",
      "/NCGR_SEQ_ID=MMETSP0052_2-20121109|20978 /TAXON_ID=51329 ORGANISM=\"Polytomella parva, Strain SAG 63-3\" /NCGR_SAMPLE_ID=MMETSP0052_2 /ASSEMBLY_ACC=CAM_ASM_000194 /LENGTH=1459\n",
      "/NCGR_SEQ_ID=MMETSP1180-20130426|52450 /TAXON_ID=3052 ORGANISM=\"Chlamydomonas cf sp, Strain CCMP681\" /NCGR_SAMPLE_ID=MMETSP1180 /ASSEMBLY_ACC=CAM_ASM_000741 /LENGTH=3159\n",
      "/NCGR_SEQ_ID=MMETSP1161-20130426|908 /TAXON_ID=249345 /ORGANISM=\"Picochlorum oklahomensis, Strain CCMP2329\" /LENGTH=5938\n",
      "/NCGR_SEQ_ID=MMETSP1159-20121227|2481 /TAXON_ID=88271 /ORGANISM=\"Picocystis salinarum\" /LENGTH=1036\n",
      "/NCGR_SEQ_ID=MMETSP0807_2-20130328|5393 /TAXON_ID=88271 /ORGANISM=\"Picocystis salinarum, Strain CCMP1897\" /LENGTH=1222\n",
      "/NCGR_SEQ_ID=MMETSP0034_2-20130328|7940 /TAXON_ID=156128 /ORGANISM=\"Nephroselmis pyriformis, Strain CCMP717\" /LENGTH=1552\n",
      "/NCGR_SEQ_ID=MMETSP0807_2-20130328|73 /TAXON_ID=88271 /ORGANISM=\"Picocystis salinarum, Strain CCMP1897\" /LENGTH=2128\n",
      "/NCGR_SEQ_ID=MMETSP0063_2-20130828|62867 /ASSEMBLY_ACC=CAM_ASM_000185 /TAXON_ID=327068 /ORGANISM=\"Chlamydomonas euryale, Strain CCMP219\" /LENGTH=1569\n",
      "/NCGR_SEQ_ID=MMETSP1310-20130426|6134 /TAXON_ID=464262 /ORGANISM=\"Genus nov. species nov., Strain RCC2339\" /LENGTH=1444\n",
      "/NCGR_SEQ_ID=MMETSP1169-20130426|10624 /TAXON_ID=36882 /ORGANISM=\"Pyramimonas obovata, Strain CCMP722\" /LENGTH=1287\n",
      "/NCGR_SEQ_ID=MMETSP0803_2-20130417|42935 /TAXON_ID=195967 /ORGANISM=\"Crustomastix stigmata, Strain CCMP3273\" /LENGTH=625\n",
      "/NCGR_SEQ_ID=MMETSP1445-20131203|28939 /TAXON_ID=36898 /ORGANISM=\"Pyramimonas sp., Strain CCMP2087\" /LENGTH=742\n",
      "/NCGR_SEQ_ID=MMETSP1445-20131203|25340 /TAXON_ID=36898 /ORGANISM=\"Pyramimonas sp., Strain CCMP2087\" /LENGTH=1492\n",
      "/NCGR_SEQ_ID=MMETSP1400-20130829|8151 /ASSEMBLY_ACC=CAM_ASM_000793 /TAXON_ID=38833 /ORGANISM=\"Micromonas sp., Strain RCC451\" /LENGTH=1612\n",
      "/NCGR_SEQ_ID=MMETSP1393-20130829|1446 /ASSEMBLY_ACC=CAM_ASM_000869 /TAXON_ID=38833 /ORGANISM=\"Micromonas sp, Strain CS-222\" /LENGTH=831\n",
      "/NCGR_SEQ_ID=MMETSP1438-20131217|44227 /TAXON_ID=1461541 /ORGANISM=\"Pterosperma sp., Strain CCMP1384\" /LENGTH=1587\n",
      "/NCGR_SEQ_ID=MMETSP1403-20130829|7928 /ASSEMBLY_ACC=CAM_ASM_000794 /TAXON_ID=38833 /ORGANISM=\"Micromonas pusilla, Strain CCMP1723 \" /LENGTH=1551\n",
      "/NCGR_SEQ_ID=MMETSP1085-20130531|3295 /TAXON_ID=41879 ORGANISM=\"Pycnococcus sp, Strain CCMP1998\" /NCGR_SAMPLE_ID=MMETSP1085 /ASSEMBLY_ACC=CAM_ASM_000807 /LENGTH=881\n",
      "/NCGR_SEQ_ID=MMETSP0941-20130531|8842 /TAXON_ID=156131 /ORGANISM=\"Prasinococcus capsulatus, Strain CCMP1194\" /LENGTH=3121\n",
      "/NCGR_SEQ_ID=MMETSP1456-20131121|572 /TAXON_ID=1461544 ORGANISM=\"Unidentified sp., Strain RCC1871\" /NCGR_SAMPLE_ID=MMETSP1456 /ASSEMBLY_ACC=CAM_ASM_001119 /LENGTH=1230\n",
      "/NCGR_SEQ_ID=MMETSP1085-20130531|5601 /TAXON_ID=41879 ORGANISM=\"Pycnococcus sp, Strain CCMP1998\" /NCGR_SAMPLE_ID=MMETSP1085 /ASSEMBLY_ACC=CAM_ASM_000807 /LENGTH=1293\n",
      "/NCGR_SEQ_ID=MMETSP0063_2-20130828|7641 /ASSEMBLY_ACC=CAM_ASM_000185 /TAXON_ID=327068 /ORGANISM=\"Chlamydomonas euryale, Strain CCMP219\" /LENGTH=2801\n",
      "/NCGR_SEQ_ID=MMETSP1312-20131121|3677 /TAXON_ID=464262 /ORGANISM=\"Genus nov. species nov., Strain RCC2335\" /LENGTH=1311\n",
      "/NCGR_SEQ_ID=MMETSP1386-20130603|11481 /TAXON_ID=38833 /ORGANISM=\"Micromonas sp., Strain NEPCC29\" /LENGTH=1641\n",
      "/NCGR_SEQ_ID=MMETSP1387-20130603|5165 /TAXON_ID=38833 /ORGANISM=\"Micromonas sp., Strain RCC472\" /LENGTH=1627\n",
      "/NCGR_SEQ_ID=MMETSP0052_2-20121109|6773 /TAXON_ID=51329 ORGANISM=\"Polytomella parva, Strain SAG 63-3\" /NCGR_SAMPLE_ID=MMETSP0052_2 /ASSEMBLY_ACC=CAM_ASM_000194 /LENGTH=2689\n",
      "/NCGR_SEQ_ID=MMETSP0052_2-20121109|26406 /TAXON_ID=51329 ORGANISM=\"Polytomella parva, Strain SAG 63-3\" /NCGR_SAMPLE_ID=MMETSP0052_2 /ASSEMBLY_ACC=CAM_ASM_000194 /LENGTH=2711\n",
      "/NCGR_SEQ_ID=MMETSP1082-20130531|2154 /TAXON_ID=38833 /ORGANISM=\"Micromonas sp., Strain NEPCC29\" /LENGTH=1703\n",
      "/NCGR_SEQ_ID=MMETSP0058-20121206|8070 /TAXON_ID=36894 /ORGANISM=\"Pyramimonas parkeae, CCMP726\" /LENGTH=1586\n",
      "/NCGR_SEQ_ID=MMETSP1084-20130531|26237 /TAXON_ID=38833 /ORGANISM=\"Micromonas sp., Strain RCC472\" /LENGTH=1648\n",
      "/NCGR_SEQ_ID=MMETSP0059-20121206|16641 /TAXON_ID=36894 /ORGANISM=\"Pyramimonas parkeae, Strain CCMP726\" /LENGTH=1652\n",
      "/NCGR_SEQ_ID=MMETSP1169-20130426|62103 /TAXON_ID=36882 /ORGANISM=\"Pyramimonas obovata, Strain CCMP722\" /LENGTH=2064\n",
      "/NCGR_SEQ_ID=MMETSP1081-20130531|55141 /TAXON_ID=36882 /ORGANISM=\"Pyramimonas amylifera, Strain CCMP720\" /LENGTH=1523\n",
      "/NCGR_SEQ_ID=MMETSP1316-20130426|1363 /TAXON_ID=41880 /ORGANISM=\"Pycnococcus provasolii, Strain RCC2336\" /LENGTH=1579\n",
      "/NCGR_SEQ_ID=MMETSP0806_2-20130528|31329 /TAXON_ID=156133 /ORGANISM=\"Prasinoderma coloniale, Strain CCMP1413\" /LENGTH=2002\n",
      "/NCGR_SEQ_ID=MMETSP1446-20131203|2374 /TAXON_ID=1461542 ORGANISM=\"Unidentified sp, Strain CCMP2111\" /NCGR_SAMPLE_ID=MMETSP1446 /ASSEMBLY_ACC=CAM_ASM_001112 /LENGTH=1591\n",
      "/NCGR_SEQ_ID=MMETSP0941-20130531|22406 /TAXON_ID=156131 /ORGANISM=\"Prasinococcus capsulatus, Strain CCMP1194\" /LENGTH=1712\n",
      "/NCGR_SEQ_ID=MMETSP1309-20131121|4660 /TAXON_ID=464262 /ORGANISM=\"Genus nov. species nov., Strain RCC998\" /LENGTH=4953\n",
      "/NCGR_SEQ_ID=MMETSP0063_2-20130828|62825 /ASSEMBLY_ACC=CAM_ASM_000185 /TAXON_ID=327068 /ORGANISM=\"Chlamydomonas euryale, Strain CCMP219\" /LENGTH=1119\n",
      "/NCGR_SEQ_ID=MMETSP1106-20121128|18164 /TAXON_ID=81844 /ORGANISM=\"Mantoniella antarctica, Strain SL-175\" /LENGTH=1948\n",
      "/NCGR_SEQ_ID=MMETSP1106-20121128|6014 /TAXON_ID=81844 /ORGANISM=\"Mantoniella antarctica, Strain SL-175\" /LENGTH=1994\n",
      "/NCGR_SEQ_ID=MMETSP1312-20131121|11423 /TAXON_ID=464262 /ORGANISM=\"Genus nov. species nov., Strain RCC2335\" /LENGTH=1086\n",
      "/NCGR_SEQ_ID=MMETSP1085-20130531|4404 /TAXON_ID=41879 ORGANISM=\"Pycnococcus sp, Strain CCMP1998\" /NCGR_SAMPLE_ID=MMETSP1085 /ASSEMBLY_ACC=CAM_ASM_000807 /LENGTH=1130\n",
      "/NCGR_SEQ_ID=MMETSP1456-20131121|26120 /TAXON_ID=1461544 ORGANISM=\"Unidentified sp., Strain RCC1871\" /NCGR_SAMPLE_ID=MMETSP1456 /ASSEMBLY_ACC=CAM_ASM_001119 /LENGTH=1117\n",
      "/NCGR_SEQ_ID=MMETSP1330-20130603|30919 /TAXON_ID=464278 /ORGANISM=\"Picochlorum sp., Strain RCC944\" /LENGTH=1108\n",
      "/NCGR_SEQ_ID=MMETSP1446-20131203|3076 /TAXON_ID=1461542 ORGANISM=\"Unidentified sp, Strain CCMP2111\" /NCGR_SAMPLE_ID=MMETSP1446 /ASSEMBLY_ACC=CAM_ASM_001112 /LENGTH=4490\n",
      "/NCGR_SEQ_ID=MMETSP1465-20131121|64473 /TAXON_ID=118079 ORGANISM=\"Phaeocystis cordata, Strain RCC1383\" /NCGR_SAMPLE_ID=MMETSP1465 /ASSEMBLY_ACC=CAM_ASM_001125 /LENGTH=1148\n",
      "/NCGR_SEQ_ID=MMETSP0938-20121108|3365 /TAXON_ID=548131 ORGANISM=\"Ostreococcus mediterraneus, Strain clade-D-RCC1107\" /NCGR_SAMPLE_ID=MMETSP0938 /ASSEMBLY_ACC=CAM_ASM_000576 /LENGTH=902\n",
      "/NCGR_SEQ_ID=MMETSP0932-20121108|3540 /TAXON_ID=548131 ORGANISM=\"Ostreococcus mediterraneus, Strain clade-D-RCC2596\" /NCGR_SAMPLE_ID=MMETSP0932 /ASSEMBLY_ACC=CAM_ASM_000582 /LENGTH=886\n",
      "/NCGR_SEQ_ID=MMETSP1402-20130829|3133 /ASSEMBLY_ACC=CAM_ASM_000895 /TAXON_ID=38833 /ORGANISM=\"Micromonas pusilla, Strain RCC1614\" /LENGTH=1233\n",
      "/NCGR_SEQ_ID=MMETSP1309-20131121|15203 /TAXON_ID=464262 /ORGANISM=\"Genus nov. species nov., Strain RCC998\" /LENGTH=1279\n",
      "/NCGR_SEQ_ID=MMETSP0929-20130131|2223 /TAXON_ID=548131 ORGANISM=\"Ostreococcus mediterraneus, Strain clade-D-RCC2572\" /NCGR_SAMPLE_ID=MMETSP0929 /ASSEMBLY_ACC=CAM_ASM_000573 /LENGTH=960\n",
      "/NCGR_SEQ_ID=MMETSP1330-20130603|2051 /TAXON_ID=464278 /ORGANISM=\"Picochlorum sp., Strain RCC944\" /LENGTH=5573\n",
      "/NCGR_SEQ_ID=MMETSP1453-20131121|27067 /TAXON_ID=1461543 ORGANISM=\"Unidentified sp., Strain RCC701\" /NCGR_SAMPLE_ID=MMETSP1453 /ASSEMBLY_ACC=CAM_ASM_001118 /LENGTH=1440\n",
      "/NCGR_SEQ_ID=MMETSP1311-20131121|46105 /TAXON_ID=464262 /ORGANISM=\"Genus nov. species nov., Strain RCC856\" /LENGTH=1510\n",
      "/NCGR_SEQ_ID=MMETSP0819-20130417|1078 /TAXON_ID=3165 /ORGANISM=\"Tetraselmis striata, Strain LANL1001\" /LENGTH=940\n",
      "/NCGR_SEQ_ID=MMETSP1080-20121227|8980 /TAXON_ID=38833 /ORGANISM=\"Micromonas sp, Strain CCMP1646\" /LENGTH=1088\n",
      "/NCGR_SEQ_ID=MMETSP1401-20130829|20772 /ASSEMBLY_ACC=CAM_ASM_000894 /TAXON_ID=38833 /ORGANISM=\"Micromonas pusilla, Strain CCAC1681\" /LENGTH=811\n",
      "/NCGR_SEQ_ID=MMETSP0930-20121108|7091 /TAXON_ID=548131 ORGANISM=\"Ostreococcus mediterraneus, Strain clade-D-RCC1621\" /NCGR_SAMPLE_ID=MMETSP0930 /ASSEMBLY_ACC=CAM_ASM_000580 /LENGTH=1735\n",
      "/NCGR_SEQ_ID=MMETSP0818-20130417|4222 /TAXON_ID=3165 /ORGANISM=\"Tetraselmis striata, Strain LANL1001\" /LENGTH=1532\n",
      "/NCGR_SEQ_ID=MMETSP0817-20130417|1808 /TAXON_ID=3165 /ORGANISM=\"Tetraselmis striata, Strain LANL1001\" /LENGTH=1628\n",
      "/NCGR_SEQ_ID=MMETSP0930-20121108|2107 /TAXON_ID=548131 ORGANISM=\"Ostreococcus mediterraneus, Strain clade-D-RCC1621\" /NCGR_SAMPLE_ID=MMETSP0930 /ASSEMBLY_ACC=CAM_ASM_000580 /LENGTH=2728\n",
      "/NCGR_SEQ_ID=MMETSP0936-20121108|2494 /TAXON_ID=548131 ORGANISM=\"Ostreococcus mediterraneus, Strain clade-D-RCC2573\" /NCGR_SAMPLE_ID=MMETSP0936 /ASSEMBLY_ACC=CAM_ASM_000574 /LENGTH=2789\n",
      "/NCGR_SEQ_ID=MMETSP0937-20121108|3385 /TAXON_ID=548131 ORGANISM=\"Ostreococcus mediterraneus, Strain clade-D-RCC2593\" /NCGR_SAMPLE_ID=MMETSP0937 /ASSEMBLY_ACC=CAM_ASM_000575 /LENGTH=3415\n",
      "/NCGR_SEQ_ID=MMETSP1310-20130426|21702 /TAXON_ID=464262 /ORGANISM=\"Genus nov. species nov., Strain RCC2339\" /LENGTH=957\n",
      "/NCGR_SEQ_ID=MMETSP0930-20121108|5048 /TAXON_ID=548131 ORGANISM=\"Ostreococcus mediterraneus, Strain clade-D-RCC1621\" /NCGR_SAMPLE_ID=MMETSP0930 /ASSEMBLY_ACC=CAM_ASM_000580 /LENGTH=2988\n",
      "/NCGR_SEQ_ID=MMETSP0941-20130531|3117 /TAXON_ID=156131 /ORGANISM=\"Prasinococcus capsulatus, Strain CCMP1194\" /LENGTH=3723\n",
      "/NCGR_SEQ_ID=MMETSP0820-20130417|75444 /TAXON_ID=3165 /ORGANISM=\"Tetraselmis striata, Strain LANL1001\" /LENGTH=1718\n",
      "/NCGR_SEQ_ID=MMETSP1390-20130617|24659 /TAXON_ID=38833 /ORGANISM=\"Micromonas sp., Strain CCMP2099\" /LENGTH=1502\n",
      "/NCGR_SEQ_ID=MMETSP1327-20130426|30482 /TAXON_ID=38833 /ORGANISM=\"Micromonas pusilla, Strain RCC2306\" /LENGTH=1426\n",
      "/NCGR_SEQ_ID=MMETSP0802-20121206|4269 /TAXON_ID=38833 /ORGANISM=\"Micromonas sp., Strain CCMP2099\" /LENGTH=1630\n",
      "/NCGR_SEQ_ID=MMETSP0033_2-20121228|832 /TAXON_ID=195969 /ORGANISM=\"Dolichomastix tenuilepis, Strain CCMP3274\" /LENGTH=1750\n",
      "/NCGR_SEQ_ID=MMETSP0939-20121108|6221 /TAXON_ID=548131 ORGANISM=\"Ostreococcus lucimarinus, Strain clade-A-BCC118000\" /NCGR_SAMPLE_ID=MMETSP0939 /ASSEMBLY_ACC=CAM_ASM_000583 /LENGTH=1093\n",
      "/NCGR_SEQ_ID=MMETSP0939-20121108|7799 /TAXON_ID=548131 ORGANISM=\"Ostreococcus lucimarinus, Strain clade-A-BCC118000\" /NCGR_SAMPLE_ID=MMETSP0939 /ASSEMBLY_ACC=CAM_ASM_000583 /LENGTH=1090\n",
      "/NCGR_SEQ_ID=MMETSP1460-20131121|43594 /TAXON_ID=41875 /ORGANISM=\"Bathycoccus prasinos, Strain RCC716\" /LENGTH=4114\n",
      "/NCGR_SEQ_ID=MMETSP1399-20130617|20029 /TAXON_ID=41875 /ORGANISM=\"Bathycoccus prasinos, Strain CCMP1898\" /LENGTH=3721\n",
      "/NCGR_SEQ_ID=MMETSP0933-20121108|3897 /TAXON_ID=548131 ORGANISM=\"Ostreococcus prasinos, Strain BCC99000\" /NCGR_SAMPLE_ID=MMETSP0933 /ASSEMBLY_ACC=CAM_ASM_000594 /LENGTH=3729\n",
      "/NCGR_SEQ_ID=MMETSP0933-20121108|6106 /TAXON_ID=548131 ORGANISM=\"Ostreococcus prasinos, Strain BCC99000\" /NCGR_SAMPLE_ID=MMETSP0933 /ASSEMBLY_ACC=CAM_ASM_000594 /LENGTH=3758\n",
      "/NCGR_SEQ_ID=MMETSP0939-20121108|1616 /TAXON_ID=548131 ORGANISM=\"Ostreococcus lucimarinus, Strain clade-A-BCC118000\" /NCGR_SAMPLE_ID=MMETSP0939 /ASSEMBLY_ACC=CAM_ASM_000583 /LENGTH=1280\n",
      "/NCGR_SEQ_ID=MMETSP0308-20130426|45979 /TAXON_ID=38269 /ORGANISM=\"Gloeochaete witrockiana, Strain SAG 46.84\" /LENGTH=1101\n",
      "/NCGR_SEQ_ID=MMETSP1089-20130417|162096 /TAXON_ID=38269 ORGANISM=\"Gloeochaete wittrockiana, Strain SAG46.84\" /NCGR_SAMPLE_ID=MMETSP1089 /ASSEMBLY_ACC=CAM_ASM_000445 /LENGTH=1364\n",
      "/NCGR_SEQ_ID=MMETSP1086-20130531|4679 /TAXON_ID=77921 /ORGANISM=\"Cyanoptyche  gloeocystis , Strain SAG4.97\" /LENGTH=3648\n",
      "/NCGR_SEQ_ID=MMETSP0491_2-20121128|23391 /TAXON_ID=63592 /ORGANISM=\"Tetraselmis chuii, Strain PLY429\" /LENGTH=909\n",
      "/NCGR_SEQ_ID=MMETSP1161-20130426|27000 /TAXON_ID=249345 /ORGANISM=\"Picochlorum oklahomensis, Strain CCMP2329\" /LENGTH=2424\n",
      "/NCGR_SEQ_ID=MMETSP0804-20121206|9346 /TAXON_ID=1074897 /ORGANISM=\"Tetraselmis astigmatica, Strain CCMP880\" /LENGTH=1433\n",
      "/NCGR_SEQ_ID=MMETSP0491_2-20121128|26774 /TAXON_ID=63592 /ORGANISM=\"Tetraselmis chuii, Strain PLY429\" /LENGTH=1282\n",
      "/NCGR_SEQ_ID=MMETSP0491_2-20121128|10823 /TAXON_ID=63592 /ORGANISM=\"Tetraselmis chuii, Strain PLY429\" /LENGTH=1250\n",
      "/NCGR_SEQ_ID=MMETSP0491_2-20121128|17926 /TAXON_ID=63592 /ORGANISM=\"Tetraselmis chuii, Strain PLY429\" /LENGTH=1301\n",
      "/NCGR_SEQ_ID=MMETSP1310-20130426|13440 /TAXON_ID=464262 /ORGANISM=\"Genus nov. species nov., Strain RCC2339\" /LENGTH=312\n",
      "/NCGR_SEQ_ID=MMETSP1151-20121109|32105 /TAXON_ID=2903 /ORGANISM=\"Emiliania huxleyi, Strain PLY M219\" /LENGTH=398\n",
      "/NCGR_SEQ_ID=MMETSP1353-20130828|18414 /TAXON_ID=1077150 /ORGANISM=\"Erythrolobus australicus, Strain CCMP3124\" /LENGTH=2927\n",
      "/NCGR_SEQ_ID=MMETSP1089-20130417|115846 /TAXON_ID=38269 ORGANISM=\"Gloeochaete wittrockiana, Strain SAG46.84\" /NCGR_SAMPLE_ID=MMETSP1089 /ASSEMBLY_ACC=CAM_ASM_000445 /LENGTH=2371\n",
      "/NCGR_SEQ_ID=MMETSP0308-20130426|86249 /TAXON_ID=38269 /ORGANISM=\"Gloeochaete witrockiana, Strain SAG 46.84\" /LENGTH=4143\n",
      "/NCGR_SEQ_ID=MMETSP1326-20131121|61641 /TAXON_ID=1155430 /ORGANISM=\"Genus nov. species nov., Strain RCC2288\" /LENGTH=1304\n",
      "/NCGR_SEQ_ID=MMETSP0033_2-20121228|1604 /TAXON_ID=195969 /ORGANISM=\"Dolichomastix tenuilepis, Strain CCMP3274\" /LENGTH=523\n",
      "/NCGR_SEQ_ID=MMETSP0384-20121206|55704 /TAXON_ID=2926 /ORGANISM=\"Alexandrium tamarense, Strain CCMP1771\" /LENGTH=476\n",
      "/NCGR_SEQ_ID=MMETSP0063_2-20130828|58377 /ASSEMBLY_ACC=CAM_ASM_000185 /TAXON_ID=327068 /ORGANISM=\"Chlamydomonas euryale, Strain CCMP219\" /LENGTH=755\n",
      "/NCGR_SEQ_ID=MMETSP1089-20130417|164469 /TAXON_ID=38269 ORGANISM=\"Gloeochaete wittrockiana, Strain SAG46.84\" /NCGR_SAMPLE_ID=MMETSP1089 /ASSEMBLY_ACC=CAM_ASM_000445 /LENGTH=2962\n",
      "/NCGR_SEQ_ID=MMETSP0308-20130426|11093 /TAXON_ID=38269 /ORGANISM=\"Gloeochaete witrockiana, Strain SAG 46.84\" /LENGTH=3109\n",
      "/NCGR_SEQ_ID=MMETSP1106-20121128|11437 /TAXON_ID=81844 /ORGANISM=\"Mantoniella antarctica, Strain SL-175\" /LENGTH=357\n",
      "/NCGR_SEQ_ID=MMETSP1392-20130828|57291 /ASSEMBLY_ACC=CAM_ASM_000868 /TAXON_ID=225041 /ORGANISM=\"Chlamydomonas chlamydogama, Strain SAG 11-48b\" /LENGTH=2744\n",
      "/NCGR_SEQ_ID=MMETSP0941-20130531|19429 /TAXON_ID=156131 /ORGANISM=\"Prasinococcus capsulatus, Strain CCMP1194\" /LENGTH=1380\n",
      "/NCGR_SEQ_ID=MMETSP1468-20131203|161919 /TAXON_ID=1461545 /ORGANISM=\"Mantoniella sp, Strain CCMP1436\" /LENGTH=383\n",
      "/NCGR_SEQ_ID=MMETSP0419_2-20121207|14508 /TAXON_ID=582737 /ORGANISM=\"Tetraselmis sp., Strain GSL018\" /LENGTH=1360\n",
      "/NCGR_SEQ_ID=MMETSP1475-20131203|58217 /TAXON_ID= ORGANISM=\"Unidentified sp., Strain CCMP1999\" /NCGR_SAMPLE_ID=MMETSP1475 /ASSEMBLY_ACC=CAM_ASM_001111 /LENGTH=2452\n",
      "/NCGR_SEQ_ID=MMETSP1354-20130828|29667 /TAXON_ID=708628 /ORGANISM=\"Erythrolobus madagascarensis, Strain CCMP3276\" /LENGTH=1918\n"
     ]
    }
   ],
   "source": [
    "for i in qresult:\n",
    "    print i.description\n"
   ]
  },
  {
   "cell_type": "code",
   "execution_count": null,
   "metadata": {
    "collapsed": true
   },
   "outputs": [],
   "source": []
  }
 ],
 "metadata": {
  "kernelspec": {
   "display_name": "Python 2",
   "language": "python",
   "name": "python2"
  },
  "language_info": {
   "codemirror_mode": {
    "name": "ipython",
    "version": 2
   },
   "file_extension": ".py",
   "mimetype": "text/x-python",
   "name": "python",
   "nbconvert_exporter": "python",
   "pygments_lexer": "ipython2",
   "version": "2.7.9"
  }
 },
 "nbformat": 4,
 "nbformat_minor": 0
}
